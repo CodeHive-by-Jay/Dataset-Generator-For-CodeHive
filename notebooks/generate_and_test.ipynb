{
 "cells": [
  {
   "cell_type": "code",
   "execution_count": null,
   "metadata": {},
   "outputs": [],
   "source": [
    "# generate_and_test.ipynb\n",
    "\n",
    "# This notebook demonstrates how to use the Dataset Generator to create and inspect data.\n",
    "\n",
    "# Import required libraries\n",
    "import pandas as pd\n",
    "import os\n",
    "from scripts.generate_users import generate_user_data\n",
    "from scripts.generate_time_series import generate_time_series\n",
    "from scripts.generate_images import generate_images\n",
    "from IPython.display import Image, display\n",
    "\n",
    "# Step 1: Generate user data\n",
    "print(\"Generating synthetic user data...\")\n",
    "generate_user_data(num_records=100)\n",
    "\n",
    "# Load and inspect user data\n",
    "user_file_path = os.path.join(\"data\", \"synthetic_user_data.csv\")\n",
    "if os.path.exists(user_file_path):\n",
    "    user_df = pd.read_csv(user_file_path)\n",
    "    print(\"\\nSample of the generated user data:\")\n",
    "    print(user_df.head())\n",
    "else:\n",
    "    print(\"User dataset file not found.\")\n",
    "\n",
    "# Step 2: Generate time-series data\n",
    "print(\"\\nGenerating synthetic time-series data...\")\n",
    "generate_time_series(num_records=50)\n",
    "\n",
    "# Load and inspect time-series data\n",
    "time_series_file_path = os.path.join(\"data\", \"synthetic_time_series.csv\")\n",
    "if os.path.exists(time_series_file_path):\n",
    "    time_series_df = pd.read_csv(time_series_file_path)\n",
    "    print(\"\\nSample of the generated time-series data:\")\n",
    "    print(time_series_df.head())\n",
    "else:\n",
    "    print(\"Time-series dataset file not found.\")\n",
    "\n",
    "# Step 3: Generate synthetic images\n",
    "print(\"\\nGenerating synthetic images...\")\n",
    "generate_images(num_images=5)\n",
    "\n",
    "# Display synthetic images\n",
    "image_dir = os.path.join(\"data\", \"synthetic_images\")\n",
    "if os.path.exists(image_dir):\n",
    "    image_files = [f for f in os.listdir(image_dir) if f.endswith(\".png\")]\n",
    "    print(\"\\nDisplaying generated images:\")\n",
    "    for image_file in image_files[:5]:  # Display up to 5 images\n",
    "        display(Image(filename=os.path.join(image_dir, image_file)))\n",
    "else:\n",
    "    print(\"Image directory not found.\")\n"
   ]
  }
 ],
 "metadata": {
  "kernelspec": {
   "display_name": "Python 3",
   "language": "python",
   "name": "python3"
  },
  "language_info": {
   "name": "python",
   "version": "3.11.9"
  }
 },
 "nbformat": 4,
 "nbformat_minor": 2
}
